{
 "cells": [
  {
   "cell_type": "code",
   "execution_count": 1,
   "id": "35d2ca1a-caa7-475e-8e1c-6dd45a7d5ae1",
   "metadata": {},
   "outputs": [],
   "source": [
    "import duckdb"
   ]
  },
  {
   "cell_type": "code",
   "execution_count": null,
   "id": "0fb237dd-c473-465b-8435-33b7602b48b5",
   "metadata": {},
   "outputs": [],
   "source": []
  },
  {
   "cell_type": "code",
   "execution_count": 2,
   "id": "96d3d24a-1917-4b56-ab31-b16440bfc38d",
   "metadata": {},
   "outputs": [],
   "source": [
    "import pandas as pd\n",
    "\n",
    "pd.set_option('future.infer_string', True)\n",
    "\n",
    "df = pd.DataFrame({'a': ['a', 'b', 'c']})"
   ]
  },
  {
   "cell_type": "code",
   "execution_count": 3,
   "id": "b7d861de-4729-4188-a8e9-01334a9c959d",
   "metadata": {},
   "outputs": [
    {
     "data": {
      "text/plain": [
       "pandas.core.series.Series"
      ]
     },
     "execution_count": 3,
     "metadata": {},
     "output_type": "execute_result"
    }
   ],
   "source": [
    "df['a'].__class__"
   ]
  },
  {
   "cell_type": "code",
   "execution_count": 4,
   "id": "08163403-e910-4b96-b752-2249a9918533",
   "metadata": {},
   "outputs": [
    {
     "data": {
      "text/plain": [
       "<ArrowStringArrayNumpySemantics>\n",
       "['a', 'b', 'c']\n",
       "Length: 3, dtype: string"
      ]
     },
     "execution_count": 4,
     "metadata": {},
     "output_type": "execute_result"
    }
   ],
   "source": [
    "df['a'].array"
   ]
  },
  {
   "cell_type": "code",
   "execution_count": 5,
   "id": "afa8000f-93fb-4ec9-b758-8c3db710f470",
   "metadata": {},
   "outputs": [
    {
     "data": {
      "text/plain": [
       "string[pyarrow_numpy]"
      ]
     },
     "execution_count": 5,
     "metadata": {},
     "output_type": "execute_result"
    }
   ],
   "source": [
    "df.a.dtype"
   ]
  },
  {
   "cell_type": "code",
   "execution_count": 6,
   "id": "335580c8-6b65-44f4-b1b2-4e0ee09a021e",
   "metadata": {},
   "outputs": [],
   "source": [
    "config = {'enable_external_access': False}\n",
    "con = duckdb.connect(database=':memory:', config=config)"
   ]
  },
  {
   "cell_type": "code",
   "execution_count": 7,
   "id": "4745f99a-d1a3-411f-9de7-d52a50614590",
   "metadata": {},
   "outputs": [],
   "source": [
    "dfs = {'df': df}"
   ]
  },
  {
   "cell_type": "code",
   "execution_count": 8,
   "id": "736625fe-e586-4fb4-96d7-990a886dc322",
   "metadata": {},
   "outputs": [
    {
     "name": "stderr",
     "output_type": "stream",
     "text": [
      "/var/folders/pz/1nqrv9792935dly77nsj_knc0000gn/T/ipykernel_4736/2870230371.py:2: FutureWarning: ArrowStringArrayNumpySemantics._data is a deprecated and will be removed in a future version, use ._pa_array instead\n",
      "  con.register(tbl_name, df)\n",
      "/var/folders/pz/1nqrv9792935dly77nsj_knc0000gn/T/ipykernel_4736/2870230371.py:2: FutureWarning: ArrowStringArrayNumpySemantics._data is a deprecated and will be removed in a future version, use ._pa_array instead\n",
      "  con.register(tbl_name, df)\n",
      "/var/folders/pz/1nqrv9792935dly77nsj_knc0000gn/T/ipykernel_4736/2870230371.py:2: FutureWarning: ArrowStringArrayNumpySemantics._data is a deprecated and will be removed in a future version, use ._pa_array instead\n",
      "  con.register(tbl_name, df)\n",
      "/var/folders/pz/1nqrv9792935dly77nsj_knc0000gn/T/ipykernel_4736/2870230371.py:5: FutureWarning: ArrowStringArrayNumpySemantics._data is a deprecated and will be removed in a future version, use ._pa_array instead\n",
      "  out = con.execute(s).df()\n"
     ]
    }
   ],
   "source": [
    "for tbl_name, df in dfs.items():\n",
    "    con.register(tbl_name, df)\n",
    "\n",
    "s = \"select * from df\"\n",
    "out = con.execute(s).df()"
   ]
  },
  {
   "cell_type": "code",
   "execution_count": null,
   "id": "6dbdb7d2-5ba0-43da-a83d-e5ed976dbaf7",
   "metadata": {},
   "outputs": [],
   "source": []
  }
 ],
 "metadata": {
  "kernelspec": {
   "display_name": "Python 3 (ipykernel)",
   "language": "python",
   "name": "python3"
  },
  "language_info": {
   "codemirror_mode": {
    "name": "ipython",
    "version": 3
   },
   "file_extension": ".py",
   "mimetype": "text/x-python",
   "name": "python",
   "nbconvert_exporter": "python",
   "pygments_lexer": "ipython3",
   "version": "3.11.8"
  }
 },
 "nbformat": 4,
 "nbformat_minor": 5
}
