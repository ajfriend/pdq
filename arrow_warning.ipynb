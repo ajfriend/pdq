{
 "cells": [
  {
   "cell_type": "code",
   "execution_count": 1,
   "id": "35d2ca1a-caa7-475e-8e1c-6dd45a7d5ae1",
   "metadata": {},
   "outputs": [],
   "source": [
    "import duckdb\n",
    "import pandas as pd\n",
    "pd.set_option('future.infer_string', True)"
   ]
  },
  {
   "cell_type": "code",
   "execution_count": 2,
   "id": "96d3d24a-1917-4b56-ab31-b16440bfc38d",
   "metadata": {},
   "outputs": [],
   "source": [
    "df = pd.DataFrame({'col1': ['a', 'b', 'c']})"
   ]
  },
  {
   "cell_type": "code",
   "execution_count": 3,
   "id": "b7d861de-4729-4188-a8e9-01334a9c959d",
   "metadata": {},
   "outputs": [
    {
     "data": {
      "text/plain": [
       "pandas.core.series.Series"
      ]
     },
     "execution_count": 3,
     "metadata": {},
     "output_type": "execute_result"
    }
   ],
   "source": [
    "df['col1'].__class__"
   ]
  },
  {
   "cell_type": "code",
   "execution_count": 4,
   "id": "08163403-e910-4b96-b752-2249a9918533",
   "metadata": {},
   "outputs": [
    {
     "data": {
      "text/plain": [
       "<ArrowStringArrayNumpySemantics>\n",
       "['a', 'b', 'c']\n",
       "Length: 3, dtype: string"
      ]
     },
     "execution_count": 4,
     "metadata": {},
     "output_type": "execute_result"
    }
   ],
   "source": [
    "df['col1'].array"
   ]
  },
  {
   "cell_type": "code",
   "execution_count": 5,
   "id": "afa8000f-93fb-4ec9-b758-8c3db710f470",
   "metadata": {},
   "outputs": [
    {
     "data": {
      "text/plain": [
       "string[pyarrow_numpy]"
      ]
     },
     "execution_count": 5,
     "metadata": {},
     "output_type": "execute_result"
    }
   ],
   "source": [
    "df.col1.dtype"
   ]
  },
  {
   "cell_type": "code",
   "execution_count": 6,
   "id": "335580c8-6b65-44f4-b1b2-4e0ee09a021e",
   "metadata": {},
   "outputs": [
    {
     "name": "stderr",
     "output_type": "stream",
     "text": [
      "/var/folders/pz/1nqrv9792935dly77nsj_knc0000gn/T/ipykernel_6014/2409810015.py:6: FutureWarning: ArrowStringArrayNumpySemantics._data is a deprecated and will be removed in a future version, use ._pa_array instead\n",
      "  con.register('df', df)\n",
      "/var/folders/pz/1nqrv9792935dly77nsj_knc0000gn/T/ipykernel_6014/2409810015.py:6: FutureWarning: ArrowStringArrayNumpySemantics._data is a deprecated and will be removed in a future version, use ._pa_array instead\n",
      "  con.register('df', df)\n",
      "/var/folders/pz/1nqrv9792935dly77nsj_knc0000gn/T/ipykernel_6014/2409810015.py:6: FutureWarning: ArrowStringArrayNumpySemantics._data is a deprecated and will be removed in a future version, use ._pa_array instead\n",
      "  con.register('df', df)\n"
     ]
    },
    {
     "data": {
      "text/plain": [
       "<duckdb.duckdb.DuckDBPyConnection at 0x10e9b2130>"
      ]
     },
     "execution_count": 6,
     "metadata": {},
     "output_type": "execute_result"
    }
   ],
   "source": [
    "con = duckdb.connect(\n",
    "    database = ':memory:',\n",
    "    config = {'enable_external_access': False}\n",
    ")\n",
    "\n",
    "con.register('df', df)"
   ]
  },
  {
   "cell_type": "code",
   "execution_count": 7,
   "id": "736625fe-e586-4fb4-96d7-990a886dc322",
   "metadata": {},
   "outputs": [
    {
     "name": "stderr",
     "output_type": "stream",
     "text": [
      "/var/folders/pz/1nqrv9792935dly77nsj_knc0000gn/T/ipykernel_6014/3518110904.py:2: FutureWarning: ArrowStringArrayNumpySemantics._data is a deprecated and will be removed in a future version, use ._pa_array instead\n",
      "  out = con.execute(s).df()\n"
     ]
    },
    {
     "data": {
      "text/html": [
       "<div>\n",
       "<style scoped>\n",
       "    .dataframe tbody tr th:only-of-type {\n",
       "        vertical-align: middle;\n",
       "    }\n",
       "\n",
       "    .dataframe tbody tr th {\n",
       "        vertical-align: top;\n",
       "    }\n",
       "\n",
       "    .dataframe thead th {\n",
       "        text-align: right;\n",
       "    }\n",
       "</style>\n",
       "<table border=\"1\" class=\"dataframe\">\n",
       "  <thead>\n",
       "    <tr style=\"text-align: right;\">\n",
       "      <th></th>\n",
       "      <th>col1</th>\n",
       "    </tr>\n",
       "  </thead>\n",
       "  <tbody>\n",
       "    <tr>\n",
       "      <th>0</th>\n",
       "      <td>a</td>\n",
       "    </tr>\n",
       "    <tr>\n",
       "      <th>1</th>\n",
       "      <td>b</td>\n",
       "    </tr>\n",
       "    <tr>\n",
       "      <th>2</th>\n",
       "      <td>c</td>\n",
       "    </tr>\n",
       "  </tbody>\n",
       "</table>\n",
       "</div>"
      ],
      "text/plain": [
       "  col1\n",
       "0    a\n",
       "1    b\n",
       "2    c"
      ]
     },
     "execution_count": 7,
     "metadata": {},
     "output_type": "execute_result"
    }
   ],
   "source": [
    "s = 'select * from df'\n",
    "out = con.execute(s).df()\n",
    "out"
   ]
  },
  {
   "cell_type": "code",
   "execution_count": null,
   "id": "6dbdb7d2-5ba0-43da-a83d-e5ed976dbaf7",
   "metadata": {},
   "outputs": [],
   "source": []
  }
 ],
 "metadata": {
  "kernelspec": {
   "display_name": "Python 3 (ipykernel)",
   "language": "python",
   "name": "python3"
  },
  "language_info": {
   "codemirror_mode": {
    "name": "ipython",
    "version": 3
   },
   "file_extension": ".py",
   "mimetype": "text/x-python",
   "name": "python",
   "nbconvert_exporter": "python",
   "pygments_lexer": "ipython3",
   "version": "3.11.8"
  }
 },
 "nbformat": 4,
 "nbformat_minor": 5
}
