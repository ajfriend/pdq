{
 "cells": [
  {
   "cell_type": "code",
   "execution_count": 1,
   "id": "8d831b47-708d-4606-bda2-78ade4268737",
   "metadata": {},
   "outputs": [
    {
     "name": "stdout",
     "output_type": "stream",
     "text": [
      "0.4.0\n"
     ]
    }
   ],
   "source": [
    "import pdx\n",
    "print(pdx.__version__)"
   ]
  },
  {
   "cell_type": "code",
   "execution_count": 2,
   "id": "ad6106de-f5db-466d-a7e2-77a8a5d4c5b6",
   "metadata": {},
   "outputs": [],
   "source": [
    "iris = pdx.data.get_iris()"
   ]
  },
  {
   "cell_type": "markdown",
   "id": "57afe539-2067-43ae-b543-a5a649413616",
   "metadata": {},
   "source": [
    "# long version"
   ]
  },
  {
   "cell_type": "code",
   "execution_count": 3,
   "id": "0e272ff3-5ec2-443a-ae8a-ab7864f282d5",
   "metadata": {},
   "outputs": [
    {
     "name": "stdout",
     "output_type": "stream",
     "text": [
      "select\n",
      "    species,\n",
      "    count(*)\n",
      "        as num,\n",
      "from\n",
      "    tbl\n",
      "group by\n",
      "    1\n"
     ]
    }
   ],
   "source": [
    "print(open('long.sql').read())"
   ]
  },
  {
   "cell_type": "code",
   "execution_count": 4,
   "id": "2d451de9-fa64-497f-bbb9-07e03b9185ff",
   "metadata": {},
   "outputs": [
    {
     "data": {
      "text/html": [
       "<div>\n",
       "<style scoped>\n",
       "    .dataframe tbody tr th:only-of-type {\n",
       "        vertical-align: middle;\n",
       "    }\n",
       "\n",
       "    .dataframe tbody tr th {\n",
       "        vertical-align: top;\n",
       "    }\n",
       "\n",
       "    .dataframe thead th {\n",
       "        text-align: right;\n",
       "    }\n",
       "</style>\n",
       "<table border=\"1\" class=\"dataframe\">\n",
       "  <thead>\n",
       "    <tr style=\"text-align: right;\">\n",
       "      <th></th>\n",
       "      <th>species</th>\n",
       "      <th>num</th>\n",
       "    </tr>\n",
       "  </thead>\n",
       "  <tbody>\n",
       "    <tr>\n",
       "      <th>0</th>\n",
       "      <td>setosa</td>\n",
       "      <td>50</td>\n",
       "    </tr>\n",
       "    <tr>\n",
       "      <th>1</th>\n",
       "      <td>versicolor</td>\n",
       "      <td>50</td>\n",
       "    </tr>\n",
       "    <tr>\n",
       "      <th>2</th>\n",
       "      <td>virginica</td>\n",
       "      <td>50</td>\n",
       "    </tr>\n",
       "  </tbody>\n",
       "</table>\n",
       "</div>"
      ],
      "text/plain": [
       "      species  num\n",
       "0      setosa   50\n",
       "1  versicolor   50\n",
       "2   virginica   50"
      ]
     },
     "execution_count": 4,
     "metadata": {},
     "output_type": "execute_result"
    }
   ],
   "source": [
    "pdx.sql('long.sql', tbl=iris)"
   ]
  },
  {
   "cell_type": "markdown",
   "id": "5cac9601-33f3-41b0-8ef0-af4c2f321aa3",
   "metadata": {},
   "source": [
    "# short version"
   ]
  },
  {
   "cell_type": "code",
   "execution_count": 5,
   "id": "a73d1f76-cff4-41fe-a639-7b2e8378f88f",
   "metadata": {},
   "outputs": [
    {
     "name": "stdout",
     "output_type": "stream",
     "text": [
      "select\n",
      "    species,\n",
      "    count(*)\n",
      "        as num,\n",
      "group by\n",
      "    1\n"
     ]
    }
   ],
   "source": [
    "print(open('short.sql').read())"
   ]
  },
  {
   "cell_type": "code",
   "execution_count": 6,
   "id": "a48ebb45-e29f-4582-aaf2-3a0da12967a6",
   "metadata": {},
   "outputs": [
    {
     "data": {
      "text/html": [
       "<div>\n",
       "<style scoped>\n",
       "    .dataframe tbody tr th:only-of-type {\n",
       "        vertical-align: middle;\n",
       "    }\n",
       "\n",
       "    .dataframe tbody tr th {\n",
       "        vertical-align: top;\n",
       "    }\n",
       "\n",
       "    .dataframe thead th {\n",
       "        text-align: right;\n",
       "    }\n",
       "</style>\n",
       "<table border=\"1\" class=\"dataframe\">\n",
       "  <thead>\n",
       "    <tr style=\"text-align: right;\">\n",
       "      <th></th>\n",
       "      <th>species</th>\n",
       "      <th>num</th>\n",
       "    </tr>\n",
       "  </thead>\n",
       "  <tbody>\n",
       "    <tr>\n",
       "      <th>0</th>\n",
       "      <td>setosa</td>\n",
       "      <td>50</td>\n",
       "    </tr>\n",
       "    <tr>\n",
       "      <th>1</th>\n",
       "      <td>versicolor</td>\n",
       "      <td>50</td>\n",
       "    </tr>\n",
       "    <tr>\n",
       "      <th>2</th>\n",
       "      <td>virginica</td>\n",
       "      <td>50</td>\n",
       "    </tr>\n",
       "  </tbody>\n",
       "</table>\n",
       "</div>"
      ],
      "text/plain": [
       "      species  num\n",
       "0      setosa   50\n",
       "1  versicolor   50\n",
       "2   virginica   50"
      ]
     },
     "execution_count": 6,
     "metadata": {},
     "output_type": "execute_result"
    }
   ],
   "source": [
    "iris.sql('short.sql')"
   ]
  },
  {
   "cell_type": "code",
   "execution_count": null,
   "id": "7be2eca8-9dbc-4708-8cfa-29fedc1670f3",
   "metadata": {},
   "outputs": [],
   "source": []
  }
 ],
 "metadata": {
  "kernelspec": {
   "display_name": "Python 3 (ipykernel)",
   "language": "python",
   "name": "python3"
  },
  "language_info": {
   "codemirror_mode": {
    "name": "ipython",
    "version": 3
   },
   "file_extension": ".py",
   "mimetype": "text/x-python",
   "name": "python",
   "nbconvert_exporter": "python",
   "pygments_lexer": "ipython3",
   "version": "3.9.1"
  }
 },
 "nbformat": 4,
 "nbformat_minor": 5
}
