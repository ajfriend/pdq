{
 "cells": [
  {
   "cell_type": "code",
   "execution_count": 1,
   "id": "a09a71eb-3706-45e5-8eb9-95ebc67018e4",
   "metadata": {},
   "outputs": [],
   "source": [
    "import pdx"
   ]
  },
  {
   "cell_type": "code",
   "execution_count": 2,
   "id": "760c709b-e5fe-4d4d-9831-75cad0d74a4d",
   "metadata": {},
   "outputs": [],
   "source": [
    "iris = pdx.data.get_iris()"
   ]
  },
  {
   "cell_type": "code",
   "execution_count": 3,
   "id": "556d4d32-fbb6-4cac-91ac-8b3845819138",
   "metadata": {},
   "outputs": [
    {
     "data": {
      "text/html": [
       "<div>\n",
       "<style scoped>\n",
       "    .dataframe tbody tr th:only-of-type {\n",
       "        vertical-align: middle;\n",
       "    }\n",
       "\n",
       "    .dataframe tbody tr th {\n",
       "        vertical-align: top;\n",
       "    }\n",
       "\n",
       "    .dataframe thead th {\n",
       "        text-align: right;\n",
       "    }\n",
       "</style>\n",
       "<table border=\"1\" class=\"dataframe\">\n",
       "  <thead>\n",
       "    <tr style=\"text-align: right;\">\n",
       "      <th></th>\n",
       "      <th>avg(sepal_length)</th>\n",
       "      <th>avg(sepal_width)</th>\n",
       "    </tr>\n",
       "  </thead>\n",
       "  <tbody>\n",
       "    <tr>\n",
       "      <th>0</th>\n",
       "      <td>5.843333</td>\n",
       "      <td>3.057333</td>\n",
       "    </tr>\n",
       "  </tbody>\n",
       "</table>\n",
       "</div>"
      ],
      "text/plain": [
       "   avg(sepal_length)  avg(sepal_width)\n",
       "0           5.843333          3.057333"
      ]
     },
     "execution_count": 3,
     "metadata": {},
     "output_type": "execute_result"
    }
   ],
   "source": [
    "bah = iris.sql('select avg(sepal_length), avg(sepal_width) from tbl')\n",
    "bah"
   ]
  },
  {
   "cell_type": "code",
   "execution_count": 4,
   "id": "81e2dc61-12ec-43c6-9564-dabe79193dfc",
   "metadata": {},
   "outputs": [
    {
     "data": {
      "text/plain": [
       "[5.843333333333335, 3.057333333333334]"
      ]
     },
     "execution_count": 4,
     "metadata": {},
     "output_type": "execute_result"
    }
   ],
   "source": [
    "bah.aslist()"
   ]
  },
  {
   "cell_type": "code",
   "execution_count": 5,
   "id": "8a321f8d-64dd-43ba-a096-8e57ddcf3425",
   "metadata": {},
   "outputs": [
    {
     "data": {
      "text/plain": [
       "[5.843333333333335, 3.057333333333334]"
      ]
     },
     "execution_count": 5,
     "metadata": {},
     "output_type": "execute_result"
    }
   ],
   "source": [
    "bah.aslist()"
   ]
  },
  {
   "cell_type": "code",
   "execution_count": 7,
   "id": "ecb8abc3-b55c-409f-9807-2bb3dd619324",
   "metadata": {},
   "outputs": [
    {
     "data": {
      "text/plain": [
       "{'avg(sepal_length)': 5.843333333333335, 'avg(sepal_width)': 3.057333333333334}"
      ]
     },
     "execution_count": 7,
     "metadata": {},
     "output_type": "execute_result"
    }
   ],
   "source": [
    "bah.asdict()"
   ]
  },
  {
   "cell_type": "code",
   "execution_count": 8,
   "id": "fbc5e3e2-7ae4-4aee-891a-ad992174c17b",
   "metadata": {},
   "outputs": [
    {
     "data": {
      "text/plain": [
       "{'sepal_length': 5.1,\n",
       " 'sepal_width': 3.5,\n",
       " 'petal_length': 1.4,\n",
       " 'petal_width': 0.2,\n",
       " 'species': 'setosa'}"
      ]
     },
     "execution_count": 8,
     "metadata": {},
     "output_type": "execute_result"
    }
   ],
   "source": [
    "iris.prql('take 1').asdict()"
   ]
  },
  {
   "cell_type": "code",
   "execution_count": 9,
   "id": "85e7d3d0-110d-4b4d-9eb9-a5fa465d34b3",
   "metadata": {},
   "outputs": [
    {
     "data": {
      "text/html": [
       "<div>\n",
       "<style scoped>\n",
       "    .dataframe tbody tr th:only-of-type {\n",
       "        vertical-align: middle;\n",
       "    }\n",
       "\n",
       "    .dataframe tbody tr th {\n",
       "        vertical-align: top;\n",
       "    }\n",
       "\n",
       "    .dataframe thead th {\n",
       "        text-align: right;\n",
       "    }\n",
       "</style>\n",
       "<table border=\"1\" class=\"dataframe\">\n",
       "  <thead>\n",
       "    <tr style=\"text-align: right;\">\n",
       "      <th></th>\n",
       "      <th>species</th>\n",
       "    </tr>\n",
       "  </thead>\n",
       "  <tbody>\n",
       "    <tr>\n",
       "      <th>0</th>\n",
       "      <td>setosa</td>\n",
       "    </tr>\n",
       "    <tr>\n",
       "      <th>1</th>\n",
       "      <td>versicolor</td>\n",
       "    </tr>\n",
       "    <tr>\n",
       "      <th>2</th>\n",
       "      <td>virginica</td>\n",
       "    </tr>\n",
       "  </tbody>\n",
       "</table>\n",
       "</div>"
      ],
      "text/plain": [
       "      species\n",
       "0      setosa\n",
       "1  versicolor\n",
       "2   virginica"
      ]
     },
     "execution_count": 9,
     "metadata": {},
     "output_type": "execute_result"
    }
   ],
   "source": [
    "bah = iris.sql('select species from tbl group by 1')\n",
    "bah"
   ]
  },
  {
   "cell_type": "code",
   "execution_count": 10,
   "id": "2b3ee1b1-cbe8-446a-a6c3-895c79245dbf",
   "metadata": {},
   "outputs": [
    {
     "data": {
      "text/plain": [
       "['setosa', 'versicolor', 'virginica']"
      ]
     },
     "execution_count": 10,
     "metadata": {},
     "output_type": "execute_result"
    }
   ],
   "source": [
    "bah.aslist()"
   ]
  },
  {
   "cell_type": "code",
   "execution_count": 11,
   "id": "072cfc57-a82d-4fac-9714-e5ae91f6b283",
   "metadata": {},
   "outputs": [
    {
     "data": {
      "text/html": [
       "<div>\n",
       "<style scoped>\n",
       "    .dataframe tbody tr th:only-of-type {\n",
       "        vertical-align: middle;\n",
       "    }\n",
       "\n",
       "    .dataframe tbody tr th {\n",
       "        vertical-align: top;\n",
       "    }\n",
       "\n",
       "    .dataframe thead th {\n",
       "        text-align: right;\n",
       "    }\n",
       "</style>\n",
       "<table border=\"1\" class=\"dataframe\">\n",
       "  <thead>\n",
       "    <tr style=\"text-align: right;\">\n",
       "      <th></th>\n",
       "      <th>species</th>\n",
       "      <th>val</th>\n",
       "    </tr>\n",
       "  </thead>\n",
       "  <tbody>\n",
       "    <tr>\n",
       "      <th>0</th>\n",
       "      <td>setosa</td>\n",
       "      <td>5.006</td>\n",
       "    </tr>\n",
       "    <tr>\n",
       "      <th>1</th>\n",
       "      <td>versicolor</td>\n",
       "      <td>5.936</td>\n",
       "    </tr>\n",
       "    <tr>\n",
       "      <th>2</th>\n",
       "      <td>virginica</td>\n",
       "      <td>6.588</td>\n",
       "    </tr>\n",
       "  </tbody>\n",
       "</table>\n",
       "</div>"
      ],
      "text/plain": [
       "      species    val\n",
       "0      setosa  5.006\n",
       "1  versicolor  5.936\n",
       "2   virginica  6.588"
      ]
     },
     "execution_count": 11,
     "metadata": {},
     "output_type": "execute_result"
    }
   ],
   "source": [
    "df2 = iris.sql('select species, avg(sepal_length) as val from tbl group by 1')\n",
    "df2"
   ]
  },
  {
   "cell_type": "code",
   "execution_count": 12,
   "id": "040a0f0b-a0a6-407f-bcb5-5c70cd6729c4",
   "metadata": {},
   "outputs": [
    {
     "data": {
      "text/plain": [
       "{'setosa': 5.005999999999999,\n",
       " 'versicolor': 5.936,\n",
       " 'virginica': 6.587999999999998}"
      ]
     },
     "execution_count": 12,
     "metadata": {},
     "output_type": "execute_result"
    }
   ],
   "source": [
    "df2.cols2dict()"
   ]
  },
  {
   "cell_type": "code",
   "execution_count": null,
   "id": "9719def4-00d6-4c15-8f55-65678e91b21c",
   "metadata": {},
   "outputs": [],
   "source": []
  }
 ],
 "metadata": {
  "kernelspec": {
   "display_name": "Python 3 (ipykernel)",
   "language": "python",
   "name": "python3"
  },
  "language_info": {
   "codemirror_mode": {
    "name": "ipython",
    "version": 3
   },
   "file_extension": ".py",
   "mimetype": "text/x-python",
   "name": "python",
   "nbconvert_exporter": "python",
   "pygments_lexer": "ipython3",
   "version": "3.9.1"
  }
 },
 "nbformat": 4,
 "nbformat_minor": 5
}
