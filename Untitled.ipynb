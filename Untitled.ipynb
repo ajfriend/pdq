{
 "cells": [
  {
   "cell_type": "code",
   "execution_count": 1,
   "id": "43af3fda-e918-47b7-a67c-774a2a98d72f",
   "metadata": {},
   "outputs": [],
   "source": [
    "def sql(s, **dfs):\n",
    "    config = {'enable_external_access': False}\n",
    "    con = duckdb.connect(database=':memory:', config=config)\n",
    "\n",
    "    for tbl_name, df in dfs.items():\n",
    "        df = pa.Table.from_pandas(df)\n",
    "        con.register(tbl_name, df)\n",
    "\n",
    "    s = _get_if_file(s)\n",
    "    out = con.execute(s).df()\n",
    "\n",
    "    return out"
   ]
  },
  {
   "cell_type": "code",
   "execution_count": 2,
   "id": "050438d0-2db8-403e-bff0-4cf1364ef619",
   "metadata": {},
   "outputs": [],
   "source": [
    "def db(**dfs):\n",
    "    config = {'enable_external_access': False}\n",
    "    con = duckdb.connect(database=':memory:', config=config)\n",
    "\n",
    "    for tbl_name, df in dfs.items():\n",
    "        df = pa.Table.from_pandas(df)\n",
    "        con.register(tbl_name, df)\n",
    "\n",
    "    return con"
   ]
  },
  {
   "cell_type": "code",
   "execution_count": 30,
   "id": "ef8a8ee2-251a-4838-821c-04b2e41bda73",
   "metadata": {},
   "outputs": [],
   "source": [
    "import duckdb\n",
    "import pyarrow as pa\n",
    "\n",
    "\n",
    "class Database:\n",
    "    def __init__(self, **dfs):\n",
    "        con = duckdb.connect(\n",
    "            database = ':memory:',\n",
    "            config = {'enable_external_access': False},\n",
    "        )\n",
    "    \n",
    "        for tbl_name, df in dfs.items():\n",
    "            df = pa.Table.from_pandas(df)\n",
    "            con.register(tbl_name, df)\n",
    "\n",
    "        self._con = con\n",
    "\n",
    "    def __repr__(self):\n",
    "        return 'pdx.Database:'\n",
    "        \"\"\"\n",
    "        df = db._con.execute('SHOW ALL TABLES').df()\n",
    "        for row in df.iterrows():\n",
    "            row\n",
    "        row[1]\n",
    "\n",
    "        row[1]['name']\n",
    "\n",
    "        row[1]['column_names']\n",
    "\n",
    "        probably also want length\n",
    "        \"\"\"\n",
    "\n",
    "    def sql(self, s):\n",
    "        # s = _get_if_file(s)\n",
    "        out = self._con.execute(s).df()\n",
    "        return out"
   ]
  },
  {
   "cell_type": "code",
   "execution_count": 31,
   "id": "27cdae6c-156c-446a-8328-8e7afa0e932a",
   "metadata": {},
   "outputs": [],
   "source": [
    "import pdx"
   ]
  },
  {
   "cell_type": "code",
   "execution_count": 37,
   "id": "16083f76-748a-4708-b11a-e9ec8aef6bac",
   "metadata": {},
   "outputs": [],
   "source": [
    "iris = pdx.data.get_iris()"
   ]
  },
  {
   "cell_type": "code",
   "execution_count": 38,
   "id": "8df80e21-15ae-4882-96e6-a420094778fe",
   "metadata": {},
   "outputs": [],
   "source": [
    "db = Database(iris=iris)"
   ]
  },
  {
   "cell_type": "code",
   "execution_count": 34,
   "id": "fa4f37b2-9fb6-47dd-9aab-787a5f333a84",
   "metadata": {},
   "outputs": [],
   "source": [
    "df = db._con.execute('SHOW ALL TABLES').df()"
   ]
  },
  {
   "cell_type": "code",
   "execution_count": 39,
   "id": "76f273e9-4627-43fd-a504-226c1046e476",
   "metadata": {},
   "outputs": [
    {
     "data": {
      "text/html": [
       "<div>\n",
       "<style scoped>\n",
       "    .dataframe tbody tr th:only-of-type {\n",
       "        vertical-align: middle;\n",
       "    }\n",
       "\n",
       "    .dataframe tbody tr th {\n",
       "        vertical-align: top;\n",
       "    }\n",
       "\n",
       "    .dataframe thead th {\n",
       "        text-align: right;\n",
       "    }\n",
       "</style>\n",
       "<table border=\"1\" class=\"dataframe\">\n",
       "  <thead>\n",
       "    <tr style=\"text-align: right;\">\n",
       "      <th></th>\n",
       "      <th>sepal_length</th>\n",
       "      <th>sepal_width</th>\n",
       "      <th>petal_length</th>\n",
       "      <th>petal_width</th>\n",
       "      <th>species</th>\n",
       "    </tr>\n",
       "  </thead>\n",
       "  <tbody>\n",
       "    <tr>\n",
       "      <th>0</th>\n",
       "      <td>5.1</td>\n",
       "      <td>3.5</td>\n",
       "      <td>1.4</td>\n",
       "      <td>0.2</td>\n",
       "      <td>setosa</td>\n",
       "    </tr>\n",
       "    <tr>\n",
       "      <th>1</th>\n",
       "      <td>4.9</td>\n",
       "      <td>3.0</td>\n",
       "      <td>1.4</td>\n",
       "      <td>0.2</td>\n",
       "      <td>setosa</td>\n",
       "    </tr>\n",
       "    <tr>\n",
       "      <th>2</th>\n",
       "      <td>4.7</td>\n",
       "      <td>3.2</td>\n",
       "      <td>1.3</td>\n",
       "      <td>0.2</td>\n",
       "      <td>setosa</td>\n",
       "    </tr>\n",
       "    <tr>\n",
       "      <th>3</th>\n",
       "      <td>4.6</td>\n",
       "      <td>3.1</td>\n",
       "      <td>1.5</td>\n",
       "      <td>0.2</td>\n",
       "      <td>setosa</td>\n",
       "    </tr>\n",
       "    <tr>\n",
       "      <th>4</th>\n",
       "      <td>5.0</td>\n",
       "      <td>3.6</td>\n",
       "      <td>1.4</td>\n",
       "      <td>0.2</td>\n",
       "      <td>setosa</td>\n",
       "    </tr>\n",
       "    <tr>\n",
       "      <th>...</th>\n",
       "      <td>...</td>\n",
       "      <td>...</td>\n",
       "      <td>...</td>\n",
       "      <td>...</td>\n",
       "      <td>...</td>\n",
       "    </tr>\n",
       "    <tr>\n",
       "      <th>145</th>\n",
       "      <td>6.7</td>\n",
       "      <td>3.0</td>\n",
       "      <td>5.2</td>\n",
       "      <td>2.3</td>\n",
       "      <td>virginica</td>\n",
       "    </tr>\n",
       "    <tr>\n",
       "      <th>146</th>\n",
       "      <td>6.3</td>\n",
       "      <td>2.5</td>\n",
       "      <td>5.0</td>\n",
       "      <td>1.9</td>\n",
       "      <td>virginica</td>\n",
       "    </tr>\n",
       "    <tr>\n",
       "      <th>147</th>\n",
       "      <td>6.5</td>\n",
       "      <td>3.0</td>\n",
       "      <td>5.2</td>\n",
       "      <td>2.0</td>\n",
       "      <td>virginica</td>\n",
       "    </tr>\n",
       "    <tr>\n",
       "      <th>148</th>\n",
       "      <td>6.2</td>\n",
       "      <td>3.4</td>\n",
       "      <td>5.4</td>\n",
       "      <td>2.3</td>\n",
       "      <td>virginica</td>\n",
       "    </tr>\n",
       "    <tr>\n",
       "      <th>149</th>\n",
       "      <td>5.9</td>\n",
       "      <td>3.0</td>\n",
       "      <td>5.1</td>\n",
       "      <td>1.8</td>\n",
       "      <td>virginica</td>\n",
       "    </tr>\n",
       "  </tbody>\n",
       "</table>\n",
       "<p>150 rows × 5 columns</p>\n",
       "</div>"
      ],
      "text/plain": [
       "     sepal_length  sepal_width  petal_length  petal_width    species\n",
       "0             5.1          3.5           1.4          0.2     setosa\n",
       "1             4.9          3.0           1.4          0.2     setosa\n",
       "2             4.7          3.2           1.3          0.2     setosa\n",
       "3             4.6          3.1           1.5          0.2     setosa\n",
       "4             5.0          3.6           1.4          0.2     setosa\n",
       "..            ...          ...           ...          ...        ...\n",
       "145           6.7          3.0           5.2          2.3  virginica\n",
       "146           6.3          2.5           5.0          1.9  virginica\n",
       "147           6.5          3.0           5.2          2.0  virginica\n",
       "148           6.2          3.4           5.4          2.3  virginica\n",
       "149           5.9          3.0           5.1          1.8  virginica\n",
       "\n",
       "[150 rows x 5 columns]"
      ]
     },
     "execution_count": 39,
     "metadata": {},
     "output_type": "execute_result"
    }
   ],
   "source": [
    "db.sql(\"\"\"\n",
    "select * from iris\n",
    "\"\"\")"
   ]
  },
  {
   "cell_type": "code",
   "execution_count": 14,
   "id": "780a46d0-2109-4ccb-876b-419a76f93c2c",
   "metadata": {},
   "outputs": [],
   "source": [
    "for row in df.iterrows():\n",
    "    row"
   ]
  },
  {
   "cell_type": "code",
   "execution_count": 25,
   "id": "ad0c99b2-445b-4070-9d28-19afc6775a7d",
   "metadata": {},
   "outputs": [
    {
     "data": {
      "text/plain": [
       "database                                                     temp\n",
       "schema                                                       main\n",
       "name                                                         iris\n",
       "column_names    [sepal_length, sepal_width, petal_length, peta...\n",
       "column_types            [DOUBLE, DOUBLE, DOUBLE, DOUBLE, VARCHAR]\n",
       "temporary                                                    True\n",
       "Name: 0, dtype: object"
      ]
     },
     "execution_count": 25,
     "metadata": {},
     "output_type": "execute_result"
    }
   ],
   "source": [
    "row[1]"
   ]
  },
  {
   "cell_type": "code",
   "execution_count": 24,
   "id": "dd25250d-5290-46d2-bf4d-c7ea2af2c5e0",
   "metadata": {},
   "outputs": [
    {
     "data": {
      "text/plain": [
       "'iris'"
      ]
     },
     "execution_count": 24,
     "metadata": {},
     "output_type": "execute_result"
    }
   ],
   "source": [
    "row[1]['name']"
   ]
  },
  {
   "cell_type": "code",
   "execution_count": 27,
   "id": "dc6170f2-d48f-4afd-a4f9-84b629d32875",
   "metadata": {},
   "outputs": [
    {
     "data": {
      "text/plain": [
       "array(['sepal_length', 'sepal_width', 'petal_length', 'petal_width',\n",
       "       'species'], dtype=object)"
      ]
     },
     "execution_count": 27,
     "metadata": {},
     "output_type": "execute_result"
    }
   ],
   "source": [
    "row[1]['column_names']"
   ]
  },
  {
   "cell_type": "code",
   "execution_count": null,
   "id": "595bd37b-77ba-4044-bbd5-b0007038eed2",
   "metadata": {},
   "outputs": [],
   "source": []
  }
 ],
 "metadata": {
  "kernelspec": {
   "display_name": "Python 3 (ipykernel)",
   "language": "python",
   "name": "python3"
  },
  "language_info": {
   "codemirror_mode": {
    "name": "ipython",
    "version": 3
   },
   "file_extension": ".py",
   "mimetype": "text/x-python",
   "name": "python",
   "nbconvert_exporter": "python",
   "pygments_lexer": "ipython3",
   "version": "3.11.8"
  }
 },
 "nbformat": 4,
 "nbformat_minor": 5
}
